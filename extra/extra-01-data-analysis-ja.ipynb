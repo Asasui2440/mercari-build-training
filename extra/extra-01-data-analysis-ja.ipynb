{
 "cells": [
  {
   "cell_type": "markdown",
   "id": "efb0d58b",
   "metadata": {
    "collapsed": false,
    "jupyter": {
     "outputs_hidden": false
    }
   },
   "source": [
    "# Extra1 データ分析"
   ]
  },
  {
   "cell_type": "code",
   "execution_count": 57,
   "id": "315b66bb",
   "metadata": {
    "ExecuteTime": {
     "end_time": "2024-01-30T09:43:30.499336Z",
     "start_time": "2024-01-30T09:43:27.405571Z"
    },
    "collapsed": false,
    "jupyter": {
     "outputs_hidden": false
    }
   },
   "outputs": [
    {
     "name": "stdout",
     "output_type": "stream",
     "text": [
      "Requirement already satisfied: matplotlib in /opt/anaconda3/lib/python3.12/site-packages (3.8.4)\n",
      "Requirement already satisfied: contourpy>=1.0.1 in /opt/anaconda3/lib/python3.12/site-packages (from matplotlib) (1.2.0)\n",
      "Requirement already satisfied: cycler>=0.10 in /opt/anaconda3/lib/python3.12/site-packages (from matplotlib) (0.11.0)\n",
      "Requirement already satisfied: fonttools>=4.22.0 in /opt/anaconda3/lib/python3.12/site-packages (from matplotlib) (4.51.0)\n",
      "Requirement already satisfied: kiwisolver>=1.3.1 in /opt/anaconda3/lib/python3.12/site-packages (from matplotlib) (1.4.4)\n",
      "Requirement already satisfied: numpy>=1.21 in /opt/anaconda3/lib/python3.12/site-packages (from matplotlib) (1.26.4)\n",
      "Requirement already satisfied: packaging>=20.0 in /opt/anaconda3/lib/python3.12/site-packages (from matplotlib) (23.2)\n",
      "Requirement already satisfied: pillow>=8 in /opt/anaconda3/lib/python3.12/site-packages (from matplotlib) (10.3.0)\n",
      "Requirement already satisfied: pyparsing>=2.3.1 in /opt/anaconda3/lib/python3.12/site-packages (from matplotlib) (3.0.9)\n",
      "Requirement already satisfied: python-dateutil>=2.7 in /opt/anaconda3/lib/python3.12/site-packages (from matplotlib) (2.9.0.post0)\n",
      "Requirement already satisfied: six>=1.5 in /opt/anaconda3/lib/python3.12/site-packages (from python-dateutil>=2.7->matplotlib) (1.16.0)\n",
      "Requirement already satisfied: pandas in /opt/anaconda3/lib/python3.12/site-packages (2.2.2)\n",
      "Requirement already satisfied: numpy>=1.26.0 in /opt/anaconda3/lib/python3.12/site-packages (from pandas) (1.26.4)\n",
      "Requirement already satisfied: python-dateutil>=2.8.2 in /opt/anaconda3/lib/python3.12/site-packages (from pandas) (2.9.0.post0)\n",
      "Requirement already satisfied: pytz>=2020.1 in /opt/anaconda3/lib/python3.12/site-packages (from pandas) (2024.1)\n",
      "Requirement already satisfied: tzdata>=2022.7 in /opt/anaconda3/lib/python3.12/site-packages (from pandas) (2023.3)\n",
      "Requirement already satisfied: six>=1.5 in /opt/anaconda3/lib/python3.12/site-packages (from python-dateutil>=2.8.2->pandas) (1.16.0)\n",
      "Requirement already satisfied: scikit-learn in /opt/anaconda3/lib/python3.12/site-packages (1.4.2)\n",
      "Requirement already satisfied: numpy>=1.19.5 in /opt/anaconda3/lib/python3.12/site-packages (from scikit-learn) (1.26.4)\n",
      "Requirement already satisfied: scipy>=1.6.0 in /opt/anaconda3/lib/python3.12/site-packages (from scikit-learn) (1.13.1)\n",
      "Requirement already satisfied: joblib>=1.2.0 in /opt/anaconda3/lib/python3.12/site-packages (from scikit-learn) (1.4.2)\n",
      "Requirement already satisfied: threadpoolctl>=2.0.0 in /opt/anaconda3/lib/python3.12/site-packages (from scikit-learn) (2.2.0)\n",
      "Requirement already satisfied: seaborn in /opt/anaconda3/lib/python3.12/site-packages (0.13.2)\n",
      "Requirement already satisfied: numpy!=1.24.0,>=1.20 in /opt/anaconda3/lib/python3.12/site-packages (from seaborn) (1.26.4)\n",
      "Requirement already satisfied: pandas>=1.2 in /opt/anaconda3/lib/python3.12/site-packages (from seaborn) (2.2.2)\n",
      "Requirement already satisfied: matplotlib!=3.6.1,>=3.4 in /opt/anaconda3/lib/python3.12/site-packages (from seaborn) (3.8.4)\n",
      "Requirement already satisfied: contourpy>=1.0.1 in /opt/anaconda3/lib/python3.12/site-packages (from matplotlib!=3.6.1,>=3.4->seaborn) (1.2.0)\n",
      "Requirement already satisfied: cycler>=0.10 in /opt/anaconda3/lib/python3.12/site-packages (from matplotlib!=3.6.1,>=3.4->seaborn) (0.11.0)\n",
      "Requirement already satisfied: fonttools>=4.22.0 in /opt/anaconda3/lib/python3.12/site-packages (from matplotlib!=3.6.1,>=3.4->seaborn) (4.51.0)\n",
      "Requirement already satisfied: kiwisolver>=1.3.1 in /opt/anaconda3/lib/python3.12/site-packages (from matplotlib!=3.6.1,>=3.4->seaborn) (1.4.4)\n",
      "Requirement already satisfied: packaging>=20.0 in /opt/anaconda3/lib/python3.12/site-packages (from matplotlib!=3.6.1,>=3.4->seaborn) (23.2)\n",
      "Requirement already satisfied: pillow>=8 in /opt/anaconda3/lib/python3.12/site-packages (from matplotlib!=3.6.1,>=3.4->seaborn) (10.3.0)\n",
      "Requirement already satisfied: pyparsing>=2.3.1 in /opt/anaconda3/lib/python3.12/site-packages (from matplotlib!=3.6.1,>=3.4->seaborn) (3.0.9)\n",
      "Requirement already satisfied: python-dateutil>=2.7 in /opt/anaconda3/lib/python3.12/site-packages (from matplotlib!=3.6.1,>=3.4->seaborn) (2.9.0.post0)\n",
      "Requirement already satisfied: pytz>=2020.1 in /opt/anaconda3/lib/python3.12/site-packages (from pandas>=1.2->seaborn) (2024.1)\n",
      "Requirement already satisfied: tzdata>=2022.7 in /opt/anaconda3/lib/python3.12/site-packages (from pandas>=1.2->seaborn) (2023.3)\n",
      "Requirement already satisfied: six>=1.5 in /opt/anaconda3/lib/python3.12/site-packages (from python-dateutil>=2.7->matplotlib!=3.6.1,>=3.4->seaborn) (1.16.0)\n"
     ]
    }
   ],
   "source": [
    "# 演習に必要なライブラリのインストール\n",
    "!pip install matplotlib\n",
    "!pip install pandas\n",
    "!pip install scikit-learn\n",
    "!pip install seaborn\n",
    "\n",
    "import pprint\n",
    "from matplotlib import pyplot as plt\n",
    "%matplotlib inline\n",
    "import pandas as pd\n",
    "import seaborn as sns\n",
    "from sklearn import datasets"
   ]
  },
  {
   "cell_type": "markdown",
   "id": "628ceb3f",
   "metadata": {
    "collapsed": false,
    "jupyter": {
     "outputs_hidden": false
    }
   },
   "source": [
    "## 問題1 データ読み込み\n",
    "\n",
    "今回の演習では UCI Machine Learning Repository が提供している Wine のデータセットを使用します。[Ref](https://archive.ics.uci.edu/dataset/109/wine)\n",
    "このデータセットはイタリアの同じ地域で栽培され、3つの異なる品種に由来するワインの化学分析の結果です。\n",
    "\n",
    "なおデータ定義は以下の通りです。"
   ]
  },
  {
   "cell_type": "markdown",
   "id": "b8fae885",
   "metadata": {
    "collapsed": false,
    "jupyter": {
     "outputs_hidden": false
    }
   },
   "source": [
    "### target\n",
    "\n",
    "| 変数名    | 定義     |\n",
    "|--------|--------|\n",
    "| target | ワインの種類 |"
   ]
  },
  {
   "cell_type": "markdown",
   "id": "e046fa3c",
   "metadata": {
    "collapsed": false,
    "jupyter": {
     "outputs_hidden": false
    }
   },
   "source": [
    "### feature_names\n",
    "\n",
    "| 変数名                          | 定義                            |\n",
    "|------------------------------|-------------------------------|\n",
    "| alcohol                      | アルコール濃度                       |\n",
    "| malic_acid                   | リンゴ酸濃度                        |\n",
    "| ash                          | 灰分濃度                          |\n",
    "| alcalinity_of_ash            | 灰のアルカリ性                       |\n",
    "| magnesium                    | マグネシウム量                       |\n",
    "| total_phenol                 | フェノール量                        |\n",
    "| flavanoids                   | フラバノイド量                       |\n",
    "| nonflavanoid_phenols         | 非フラバノイドフェノール類の量               |\n",
    "| proanthocyanins              | プロアントシアニン                     |\n",
    "| color_intensity              | 色の強度                          |\n",
    "| hue                          | 色調                            |\n",
    "| od280/OD315_of_diluted wines | 薄めたワインの280nmと315nmの波長の光に対する濁度 |\n",
    "| proline                      | プロリン量                         |\n",
    "\n",
    "ワインの味と成分についての[参考資料](https://www.jstage.jst.go.jp/article/jbrewsocjapan1915/75/8/75_8_631/_pdf/-char/ja)"
   ]
  },
  {
   "cell_type": "markdown",
   "id": "88fa1a9a",
   "metadata": {
    "collapsed": false,
    "jupyter": {
     "outputs_hidden": false
    }
   },
   "source": [
    "### Wine データセットの読み込み\n",
    "\n",
    "Wine データセットは上で `import` した `sklearn.datasets` に格納されています。\n",
    "`sklearn.datasets` からデータセットを読み込むには次のコードを実行します。[Ref](https://scikit-learn.org/stable/modules/generated/sklearn.datasets.load_wine.html)"
   ]
  },
  {
   "cell_type": "code",
   "execution_count": 62,
   "id": "fce27a02",
   "metadata": {
    "ExecuteTime": {
     "end_time": "2024-01-30T09:43:30.506148Z",
     "start_time": "2024-01-30T09:43:30.500653Z"
    },
    "collapsed": false,
    "jupyter": {
     "outputs_hidden": false
    }
   },
   "outputs": [],
   "source": [
    "wine_data = datasets.load_wine()"
   ]
  },
  {
   "cell_type": "markdown",
   "id": "95edee70",
   "metadata": {
    "collapsed": false,
    "jupyter": {
     "outputs_hidden": false
    }
   },
   "source": [
    "実際に読み込んだデータの中身を見ていきましょう。\n",
    "`Python` の標準ライブラリである `pprint` モジュールを使うと、リスト型や辞書型などのオブジェクトを、整形してきれいに表示できます。[Ref](https://docs.python.org/3/library/pprint.html#module-pprint)"
   ]
  },
  {
   "cell_type": "code",
   "execution_count": 64,
   "id": "d9b7bbb8",
   "metadata": {
    "ExecuteTime": {
     "end_time": "2024-01-30T09:43:30.511681Z",
     "start_time": "2024-01-30T09:43:30.506661Z"
    },
    "collapsed": false,
    "jupyter": {
     "outputs_hidden": false
    }
   },
   "outputs": [
    {
     "name": "stdout",
     "output_type": "stream",
     "text": [
      "{'DESCR': '.. _wine_dataset:\\n'\n",
      "          '\\n'\n",
      "          'Wine recognition dataset\\n'\n",
      "          '------------------------\\n'\n",
      "          '\\n'\n",
      "          '**Data Set Characteristics:**\\n'\n",
      "          '\\n'\n",
      "          ':Number of Instances: 178\\n'\n",
      "          ':Number of Attributes: 13 numeric, predictive attributes and the '\n",
      "          'class\\n'\n",
      "          ':Attribute Information:\\n'\n",
      "          '    - Alcohol\\n'\n",
      "          '    - Malic acid\\n'\n",
      "          '    - Ash\\n'\n",
      "          '    - Alcalinity of ash\\n'\n",
      "          '    - Magnesium\\n'\n",
      "          '    - Total phenols\\n'\n",
      "          '    - Flavanoids\\n'\n",
      "          '    - Nonflavanoid phenols\\n'\n",
      "          '    - Proanthocyanins\\n'\n",
      "          '    - Color intensity\\n'\n",
      "          '    - Hue\\n'\n",
      "          '    - OD280/OD315 of diluted wines\\n'\n",
      "          '    - Proline\\n'\n",
      "          '    - class:\\n'\n",
      "          '        - class_0\\n'\n",
      "          '        - class_1\\n'\n",
      "          '        - class_2\\n'\n",
      "          '\\n'\n",
      "          ':Summary Statistics:\\n'\n",
      "          '\\n'\n",
      "          '============================= ==== ===== ======= =====\\n'\n",
      "          '                                Min   Max   Mean     SD\\n'\n",
      "          '============================= ==== ===== ======= =====\\n'\n",
      "          'Alcohol:                      11.0  14.8    13.0   0.8\\n'\n",
      "          'Malic Acid:                   0.74  5.80    2.34  1.12\\n'\n",
      "          'Ash:                          1.36  3.23    2.36  0.27\\n'\n",
      "          'Alcalinity of Ash:            10.6  30.0    19.5   3.3\\n'\n",
      "          'Magnesium:                    70.0 162.0    99.7  14.3\\n'\n",
      "          'Total Phenols:                0.98  3.88    2.29  0.63\\n'\n",
      "          'Flavanoids:                   0.34  5.08    2.03  1.00\\n'\n",
      "          'Nonflavanoid Phenols:         0.13  0.66    0.36  0.12\\n'\n",
      "          'Proanthocyanins:              0.41  3.58    1.59  0.57\\n'\n",
      "          'Colour Intensity:              1.3  13.0     5.1   2.3\\n'\n",
      "          'Hue:                          0.48  1.71    0.96  0.23\\n'\n",
      "          'OD280/OD315 of diluted wines: 1.27  4.00    2.61  0.71\\n'\n",
      "          'Proline:                       278  1680     746   315\\n'\n",
      "          '============================= ==== ===== ======= =====\\n'\n",
      "          '\\n'\n",
      "          ':Missing Attribute Values: None\\n'\n",
      "          ':Class Distribution: class_0 (59), class_1 (71), class_2 (48)\\n'\n",
      "          ':Creator: R.A. Fisher\\n'\n",
      "          ':Donor: Michael Marshall (MARSHALL%PLU@io.arc.nasa.gov)\\n'\n",
      "          ':Date: July, 1988\\n'\n",
      "          '\\n'\n",
      "          'This is a copy of UCI ML Wine recognition datasets.\\n'\n",
      "          'https://archive.ics.uci.edu/ml/machine-learning-databases/wine/wine.data\\n'\n",
      "          '\\n'\n",
      "          'The data is the results of a chemical analysis of wines grown in '\n",
      "          'the same\\n'\n",
      "          'region in Italy by three different cultivators. There are thirteen '\n",
      "          'different\\n'\n",
      "          'measurements taken for different constituents found in the three '\n",
      "          'types of\\n'\n",
      "          'wine.\\n'\n",
      "          '\\n'\n",
      "          'Original Owners:\\n'\n",
      "          '\\n'\n",
      "          'Forina, M. et al, PARVUS -\\n'\n",
      "          'An Extendible Package for Data Exploration, Classification and '\n",
      "          'Correlation.\\n'\n",
      "          'Institute of Pharmaceutical and Food Analysis and Technologies,\\n'\n",
      "          'Via Brigata Salerno, 16147 Genoa, Italy.\\n'\n",
      "          '\\n'\n",
      "          'Citation:\\n'\n",
      "          '\\n'\n",
      "          'Lichman, M. (2013). UCI Machine Learning Repository\\n'\n",
      "          '[https://archive.ics.uci.edu/ml]. Irvine, CA: University of '\n",
      "          'California,\\n'\n",
      "          'School of Information and Computer Science.\\n'\n",
      "          '\\n'\n",
      "          '|details-start|\\n'\n",
      "          '**References**\\n'\n",
      "          '|details-split|\\n'\n",
      "          '\\n'\n",
      "          '(1) S. Aeberhard, D. Coomans and O. de Vel,\\n'\n",
      "          'Comparison of Classifiers in High Dimensional Settings,\\n'\n",
      "          'Tech. Rep. no. 92-02, (1992), Dept. of Computer Science and Dept. '\n",
      "          'of\\n'\n",
      "          'Mathematics and Statistics, James Cook University of North '\n",
      "          'Queensland.\\n'\n",
      "          '(Also submitted to Technometrics).\\n'\n",
      "          '\\n'\n",
      "          'The data was used with many others for comparing various\\n'\n",
      "          'classifiers. The classes are separable, though only RDA\\n'\n",
      "          'has achieved 100% correct classification.\\n'\n",
      "          '(RDA : 100%, QDA 99.4%, LDA 98.9%, 1NN 96.1% (z-transformed data))\\n'\n",
      "          '(All results using the leave-one-out technique)\\n'\n",
      "          '\\n'\n",
      "          '(2) S. Aeberhard, D. Coomans and O. de Vel,\\n'\n",
      "          '\"THE CLASSIFICATION PERFORMANCE OF RDA\"\\n'\n",
      "          'Tech. Rep. no. 92-01, (1992), Dept. of Computer Science and Dept. '\n",
      "          'of\\n'\n",
      "          'Mathematics and Statistics, James Cook University of North '\n",
      "          'Queensland.\\n'\n",
      "          '(Also submitted to Journal of Chemometrics).\\n'\n",
      "          '\\n'\n",
      "          '|details-end|\\n',\n",
      " 'data': array([[1.423e+01, 1.710e+00, 2.430e+00, ..., 1.040e+00, 3.920e+00,\n",
      "        1.065e+03],\n",
      "       [1.320e+01, 1.780e+00, 2.140e+00, ..., 1.050e+00, 3.400e+00,\n",
      "        1.050e+03],\n",
      "       [1.316e+01, 2.360e+00, 2.670e+00, ..., 1.030e+00, 3.170e+00,\n",
      "        1.185e+03],\n",
      "       ...,\n",
      "       [1.327e+01, 4.280e+00, 2.260e+00, ..., 5.900e-01, 1.560e+00,\n",
      "        8.350e+02],\n",
      "       [1.317e+01, 2.590e+00, 2.370e+00, ..., 6.000e-01, 1.620e+00,\n",
      "        8.400e+02],\n",
      "       [1.413e+01, 4.100e+00, 2.740e+00, ..., 6.100e-01, 1.600e+00,\n",
      "        5.600e+02]]),\n",
      " 'feature_names': ['alcohol',\n",
      "                   'malic_acid',\n",
      "                   'ash',\n",
      "                   'alcalinity_of_ash',\n",
      "                   'magnesium',\n",
      "                   'total_phenols',\n",
      "                   'flavanoids',\n",
      "                   'nonflavanoid_phenols',\n",
      "                   'proanthocyanins',\n",
      "                   'color_intensity',\n",
      "                   'hue',\n",
      "                   'od280/od315_of_diluted_wines',\n",
      "                   'proline'],\n",
      " 'frame': None,\n",
      " 'target': array([0, 0, 0, 0, 0, 0, 0, 0, 0, 0, 0, 0, 0, 0, 0, 0, 0, 0, 0, 0, 0, 0,\n",
      "       0, 0, 0, 0, 0, 0, 0, 0, 0, 0, 0, 0, 0, 0, 0, 0, 0, 0, 0, 0, 0, 0,\n",
      "       0, 0, 0, 0, 0, 0, 0, 0, 0, 0, 0, 0, 0, 0, 0, 1, 1, 1, 1, 1, 1, 1,\n",
      "       1, 1, 1, 1, 1, 1, 1, 1, 1, 1, 1, 1, 1, 1, 1, 1, 1, 1, 1, 1, 1, 1,\n",
      "       1, 1, 1, 1, 1, 1, 1, 1, 1, 1, 1, 1, 1, 1, 1, 1, 1, 1, 1, 1, 1, 1,\n",
      "       1, 1, 1, 1, 1, 1, 1, 1, 1, 1, 1, 1, 1, 1, 1, 1, 1, 1, 1, 1, 2, 2,\n",
      "       2, 2, 2, 2, 2, 2, 2, 2, 2, 2, 2, 2, 2, 2, 2, 2, 2, 2, 2, 2, 2, 2,\n",
      "       2, 2, 2, 2, 2, 2, 2, 2, 2, 2, 2, 2, 2, 2, 2, 2, 2, 2, 2, 2, 2, 2,\n",
      "       2, 2]),\n",
      " 'target_names': array(['class_0', 'class_1', 'class_2'], dtype='<U7')}\n"
     ]
    }
   ],
   "source": [
    "pprint.pprint(wine_data)"
   ]
  },
  {
   "cell_type": "markdown",
   "id": "ec36eabd",
   "metadata": {
    "collapsed": false,
    "jupyter": {
     "outputs_hidden": false
    }
   },
   "source": [
    "Wine データセットの詳細、data、特徴量名などが辞書型で格納されていることが分かります。"
   ]
  },
  {
   "cell_type": "markdown",
   "id": "4d01d432",
   "metadata": {
    "collapsed": false,
    "jupyter": {
     "outputs_hidden": false
    }
   },
   "source": [
    "### 問題1-1\n",
    "\n",
    "上で読み込んだデータセット `wine_data` から `data` のみを抽出して、出力して下さい。(※ヒントは[こちら](https://docs.python.org/3/tutorial/datastructures.html#dictionaries))"
   ]
  },
  {
   "cell_type": "code",
   "execution_count": 67,
   "id": "c57b007f",
   "metadata": {
    "ExecuteTime": {
     "end_time": "2024-01-30T09:43:30.516460Z",
     "start_time": "2024-01-30T09:43:30.513464Z"
    },
    "collapsed": false,
    "jupyter": {
     "outputs_hidden": false
    }
   },
   "outputs": [
    {
     "name": "stdout",
     "output_type": "stream",
     "text": [
      "(178, 13)\n"
     ]
    }
   ],
   "source": [
    "# ===== 以下に解答のコードを入力して下さい =====\n",
    "data_only = wine_data.data\n",
    "print(data_only.shape)"
   ]
  },
  {
   "cell_type": "markdown",
   "id": "4a357dc0",
   "metadata": {
    "collapsed": false,
    "jupyter": {
     "outputs_hidden": false
    }
   },
   "source": [
    "### 問題1-2\n",
    "\n",
    "問題1-1 で読み込んだデータを pandas の dataframe に変換して下さい。その際変数名は `wine_df`、カラム名は `wine_data.feature_names` を使用して下さい。(※ヒントは[こちら](https://pandas.pydata.org/docs/reference/api/pandas.DataFrame.html))"
   ]
  },
  {
   "cell_type": "code",
   "execution_count": 205,
   "id": "641651ab",
   "metadata": {
    "ExecuteTime": {
     "end_time": "2024-01-30T09:43:30.519707Z",
     "start_time": "2024-01-30T09:43:30.517691Z"
    },
    "collapsed": false,
    "jupyter": {
     "outputs_hidden": false
    }
   },
   "outputs": [],
   "source": [
    "# ===== 以下に解答のコードを入力して下さい =====\n",
    "wine_df = pd.DataFrame(data=wine_data.data, columns=wine_data.feature_names)"
   ]
  },
  {
   "cell_type": "markdown",
   "id": "ac893cfe",
   "metadata": {
    "collapsed": false,
    "jupyter": {
     "outputs_hidden": false
    }
   },
   "source": [
    "### 問題1-3\n",
    "\n",
    "問題1-2 で変換した `wine_df` について、上から10行を Notebook 上に表示してみましょう。(※ヒントは[こちら](https://pandas.pydata.org/docs/reference/api/pandas.DataFrame.head.html))"
   ]
  },
  {
   "cell_type": "code",
   "execution_count": 71,
   "id": "459cf844",
   "metadata": {
    "ExecuteTime": {
     "end_time": "2024-01-30T09:43:30.572231Z",
     "start_time": "2024-01-30T09:43:30.528285Z"
    },
    "collapsed": false,
    "jupyter": {
     "outputs_hidden": false
    }
   },
   "outputs": [
    {
     "name": "stdout",
     "output_type": "stream",
     "text": [
      "   alcohol  malic_acid   ash  alcalinity_of_ash  magnesium  total_phenols  \\\n",
      "0    14.23        1.71  2.43               15.6      127.0           2.80   \n",
      "1    13.20        1.78  2.14               11.2      100.0           2.65   \n",
      "2    13.16        2.36  2.67               18.6      101.0           2.80   \n",
      "3    14.37        1.95  2.50               16.8      113.0           3.85   \n",
      "4    13.24        2.59  2.87               21.0      118.0           2.80   \n",
      "5    14.20        1.76  2.45               15.2      112.0           3.27   \n",
      "6    14.39        1.87  2.45               14.6       96.0           2.50   \n",
      "7    14.06        2.15  2.61               17.6      121.0           2.60   \n",
      "8    14.83        1.64  2.17               14.0       97.0           2.80   \n",
      "9    13.86        1.35  2.27               16.0       98.0           2.98   \n",
      "\n",
      "   flavanoids  nonflavanoid_phenols  proanthocyanins  color_intensity   hue  \\\n",
      "0        3.06                  0.28             2.29             5.64  1.04   \n",
      "1        2.76                  0.26             1.28             4.38  1.05   \n",
      "2        3.24                  0.30             2.81             5.68  1.03   \n",
      "3        3.49                  0.24             2.18             7.80  0.86   \n",
      "4        2.69                  0.39             1.82             4.32  1.04   \n",
      "5        3.39                  0.34             1.97             6.75  1.05   \n",
      "6        2.52                  0.30             1.98             5.25  1.02   \n",
      "7        2.51                  0.31             1.25             5.05  1.06   \n",
      "8        2.98                  0.29             1.98             5.20  1.08   \n",
      "9        3.15                  0.22             1.85             7.22  1.01   \n",
      "\n",
      "   od280/od315_of_diluted_wines  proline  \n",
      "0                          3.92   1065.0  \n",
      "1                          3.40   1050.0  \n",
      "2                          3.17   1185.0  \n",
      "3                          3.45   1480.0  \n",
      "4                          2.93    735.0  \n",
      "5                          2.85   1450.0  \n",
      "6                          3.58   1290.0  \n",
      "7                          3.58   1295.0  \n",
      "8                          2.85   1045.0  \n",
      "9                          3.55   1045.0  \n"
     ]
    }
   ],
   "source": [
    "# ===== 以下に解答のコードを入力して下さい =====\n",
    "print(wine_df.head(10))"
   ]
  },
  {
   "cell_type": "markdown",
   "id": "d2c842d2",
   "metadata": {
    "collapsed": false,
    "jupyter": {
     "outputs_hidden": false
    }
   },
   "source": [
    "### 問題1-4\n",
    "\n",
    "`wine_df` の行数、列数を確認しましょう。(※ヒントは[こちら](https://pandas.pydata.org/docs/reference/api/pandas.DataFrame.shape.html))"
   ]
  },
  {
   "cell_type": "code",
   "execution_count": 73,
   "id": "b77f18b0",
   "metadata": {
    "ExecuteTime": {
     "end_time": "2024-01-30T09:43:30.572417Z",
     "start_time": "2024-01-30T09:43:30.531643Z"
    },
    "collapsed": false,
    "jupyter": {
     "outputs_hidden": false
    }
   },
   "outputs": [
    {
     "name": "stdout",
     "output_type": "stream",
     "text": [
      "(178, 13)\n"
     ]
    }
   ],
   "source": [
    "# ===== 以下に解答のコードを入力して下さい =====\n",
    "print(wine_df.shape)"
   ]
  },
  {
   "cell_type": "markdown",
   "id": "dae0265e",
   "metadata": {
    "collapsed": false,
    "jupyter": {
     "outputs_hidden": false
    }
   },
   "source": [
    "### 問題1-5\n",
    "\n",
    "`wine_df` の列名の一覧を確認しましょう。(※ヒントは[こちら](https://pandas.pydata.org/docs/reference/api/pandas.DataFrame.columns.html))"
   ]
  },
  {
   "cell_type": "code",
   "execution_count": 75,
   "id": "abd042a5",
   "metadata": {
    "ExecuteTime": {
     "end_time": "2024-01-30T09:43:30.572551Z",
     "start_time": "2024-01-30T09:43:30.534718Z"
    },
    "collapsed": false,
    "jupyter": {
     "outputs_hidden": false
    }
   },
   "outputs": [
    {
     "name": "stdout",
     "output_type": "stream",
     "text": [
      "Index(['alcohol', 'malic_acid', 'ash', 'alcalinity_of_ash', 'magnesium',\n",
      "       'total_phenols', 'flavanoids', 'nonflavanoid_phenols',\n",
      "       'proanthocyanins', 'color_intensity', 'hue',\n",
      "       'od280/od315_of_diluted_wines', 'proline'],\n",
      "      dtype='object')\n"
     ]
    }
   ],
   "source": [
    "# ===== 以下に解答のコードを入力して下さい =====\n",
    "print(wine_df.columns)"
   ]
  },
  {
   "cell_type": "markdown",
   "id": "5f126744",
   "metadata": {
    "collapsed": false,
    "jupyter": {
     "outputs_hidden": false
    }
   },
   "source": [
    "### 問題1-6\n",
    "\n",
    "`wine_df` から、列 `alcohol` を取得してみましょう。"
   ]
  },
  {
   "cell_type": "code",
   "execution_count": 209,
   "id": "015e7d38",
   "metadata": {
    "ExecuteTime": {
     "end_time": "2024-01-30T09:43:30.572751Z",
     "start_time": "2024-01-30T09:43:30.538581Z"
    },
    "collapsed": false,
    "jupyter": {
     "outputs_hidden": false
    }
   },
   "outputs": [
    {
     "data": {
      "text/plain": [
       "0      14.23\n",
       "1      13.20\n",
       "2      13.16\n",
       "3      14.37\n",
       "4      13.24\n",
       "       ...  \n",
       "173    13.71\n",
       "174    13.40\n",
       "175    13.27\n",
       "176    13.17\n",
       "177    14.13\n",
       "Name: alcohol, Length: 178, dtype: float64"
      ]
     },
     "execution_count": 209,
     "metadata": {},
     "output_type": "execute_result"
    }
   ],
   "source": [
    "# ===== 以下に解答のコードを入力して下さい =====\n",
    "wine_df[\"alcohol\"]"
   ]
  },
  {
   "cell_type": "markdown",
   "id": "2d568675",
   "metadata": {
    "collapsed": false,
    "jupyter": {
     "outputs_hidden": false
    }
   },
   "source": [
    "### 問題1-7\n",
    "\n",
    "`wine_df` から、列 `color_intensity`, `hue` を取得してみましょう。"
   ]
  },
  {
   "cell_type": "code",
   "execution_count": 215,
   "id": "c1925232",
   "metadata": {
    "ExecuteTime": {
     "end_time": "2024-01-30T09:43:30.572877Z",
     "start_time": "2024-01-30T09:43:30.544578Z"
    },
    "collapsed": false,
    "jupyter": {
     "outputs_hidden": false
    }
   },
   "outputs": [
    {
     "data": {
      "text/plain": [
       "0      1.04\n",
       "1      1.05\n",
       "2      1.03\n",
       "3      0.86\n",
       "4      1.04\n",
       "       ... \n",
       "173    0.64\n",
       "174    0.70\n",
       "175    0.59\n",
       "176    0.60\n",
       "177    0.61\n",
       "Name: hue, Length: 178, dtype: float64"
      ]
     },
     "execution_count": 215,
     "metadata": {},
     "output_type": "execute_result"
    }
   ],
   "source": [
    "# ===== 以下に解答のコードを入力して下さい =====\n",
    "wine_df[\"color_intensity\"]\n",
    "wine_df[\"hue\"]"
   ]
  },
  {
   "cell_type": "markdown",
   "id": "1652546e",
   "metadata": {
    "collapsed": false,
    "jupyter": {
     "outputs_hidden": false
    }
   },
   "source": [
    "## 問題2 データ操作\n",
    "\n",
    "dataframe に対する操作を実践してみましょう。"
   ]
  },
  {
   "cell_type": "markdown",
   "id": "d50efcc0",
   "metadata": {
    "collapsed": false,
    "jupyter": {
     "outputs_hidden": false
    }
   },
   "source": [
    "### 問題2-1\n",
    "\n",
    "`wine_df` から `magnesium` の値が `100` 以上の行を抽出して、Notebook に表示してみましょう。(※ヒントは[こちら](https://pandas.pydata.org/docs/reference/api/pandas.DataFrame.loc.html))\n",
    "\n",
    "また `magnesium` の値が `100` 以上のものはいくつありますか？"
   ]
  },
  {
   "cell_type": "code",
   "execution_count": 219,
   "id": "aec5fff6",
   "metadata": {
    "ExecuteTime": {
     "end_time": "2024-01-30T09:43:30.572958Z",
     "start_time": "2024-01-30T09:43:30.555459Z"
    },
    "collapsed": false,
    "jupyter": {
     "outputs_hidden": false
    }
   },
   "outputs": [
    {
     "data": {
      "text/html": [
       "<div>\n",
       "<style scoped>\n",
       "    .dataframe tbody tr th:only-of-type {\n",
       "        vertical-align: middle;\n",
       "    }\n",
       "\n",
       "    .dataframe tbody tr th {\n",
       "        vertical-align: top;\n",
       "    }\n",
       "\n",
       "    .dataframe thead th {\n",
       "        text-align: right;\n",
       "    }\n",
       "</style>\n",
       "<table border=\"1\" class=\"dataframe\">\n",
       "  <thead>\n",
       "    <tr style=\"text-align: right;\">\n",
       "      <th></th>\n",
       "      <th>alcohol</th>\n",
       "      <th>malic_acid</th>\n",
       "      <th>ash</th>\n",
       "      <th>alcalinity_of_ash</th>\n",
       "      <th>magnesium</th>\n",
       "      <th>total_phenols</th>\n",
       "      <th>flavanoids</th>\n",
       "      <th>nonflavanoid_phenols</th>\n",
       "      <th>proanthocyanins</th>\n",
       "      <th>color_intensity</th>\n",
       "      <th>hue</th>\n",
       "      <th>od280/od315_of_diluted_wines</th>\n",
       "      <th>proline</th>\n",
       "    </tr>\n",
       "  </thead>\n",
       "  <tbody>\n",
       "    <tr>\n",
       "      <th>0</th>\n",
       "      <td>14.23</td>\n",
       "      <td>1.71</td>\n",
       "      <td>2.43</td>\n",
       "      <td>15.6</td>\n",
       "      <td>127.0</td>\n",
       "      <td>2.80</td>\n",
       "      <td>3.06</td>\n",
       "      <td>0.28</td>\n",
       "      <td>2.29</td>\n",
       "      <td>5.64</td>\n",
       "      <td>1.04</td>\n",
       "      <td>3.92</td>\n",
       "      <td>1065.0</td>\n",
       "    </tr>\n",
       "    <tr>\n",
       "      <th>1</th>\n",
       "      <td>13.20</td>\n",
       "      <td>1.78</td>\n",
       "      <td>2.14</td>\n",
       "      <td>11.2</td>\n",
       "      <td>100.0</td>\n",
       "      <td>2.65</td>\n",
       "      <td>2.76</td>\n",
       "      <td>0.26</td>\n",
       "      <td>1.28</td>\n",
       "      <td>4.38</td>\n",
       "      <td>1.05</td>\n",
       "      <td>3.40</td>\n",
       "      <td>1050.0</td>\n",
       "    </tr>\n",
       "    <tr>\n",
       "      <th>2</th>\n",
       "      <td>13.16</td>\n",
       "      <td>2.36</td>\n",
       "      <td>2.67</td>\n",
       "      <td>18.6</td>\n",
       "      <td>101.0</td>\n",
       "      <td>2.80</td>\n",
       "      <td>3.24</td>\n",
       "      <td>0.30</td>\n",
       "      <td>2.81</td>\n",
       "      <td>5.68</td>\n",
       "      <td>1.03</td>\n",
       "      <td>3.17</td>\n",
       "      <td>1185.0</td>\n",
       "    </tr>\n",
       "    <tr>\n",
       "      <th>3</th>\n",
       "      <td>14.37</td>\n",
       "      <td>1.95</td>\n",
       "      <td>2.50</td>\n",
       "      <td>16.8</td>\n",
       "      <td>113.0</td>\n",
       "      <td>3.85</td>\n",
       "      <td>3.49</td>\n",
       "      <td>0.24</td>\n",
       "      <td>2.18</td>\n",
       "      <td>7.80</td>\n",
       "      <td>0.86</td>\n",
       "      <td>3.45</td>\n",
       "      <td>1480.0</td>\n",
       "    </tr>\n",
       "    <tr>\n",
       "      <th>4</th>\n",
       "      <td>13.24</td>\n",
       "      <td>2.59</td>\n",
       "      <td>2.87</td>\n",
       "      <td>21.0</td>\n",
       "      <td>118.0</td>\n",
       "      <td>2.80</td>\n",
       "      <td>2.69</td>\n",
       "      <td>0.39</td>\n",
       "      <td>1.82</td>\n",
       "      <td>4.32</td>\n",
       "      <td>1.04</td>\n",
       "      <td>2.93</td>\n",
       "      <td>735.0</td>\n",
       "    </tr>\n",
       "    <tr>\n",
       "      <th>...</th>\n",
       "      <td>...</td>\n",
       "      <td>...</td>\n",
       "      <td>...</td>\n",
       "      <td>...</td>\n",
       "      <td>...</td>\n",
       "      <td>...</td>\n",
       "      <td>...</td>\n",
       "      <td>...</td>\n",
       "      <td>...</td>\n",
       "      <td>...</td>\n",
       "      <td>...</td>\n",
       "      <td>...</td>\n",
       "      <td>...</td>\n",
       "    </tr>\n",
       "    <tr>\n",
       "      <th>168</th>\n",
       "      <td>13.58</td>\n",
       "      <td>2.58</td>\n",
       "      <td>2.69</td>\n",
       "      <td>24.5</td>\n",
       "      <td>105.0</td>\n",
       "      <td>1.55</td>\n",
       "      <td>0.84</td>\n",
       "      <td>0.39</td>\n",
       "      <td>1.54</td>\n",
       "      <td>8.66</td>\n",
       "      <td>0.74</td>\n",
       "      <td>1.80</td>\n",
       "      <td>750.0</td>\n",
       "    </tr>\n",
       "    <tr>\n",
       "      <th>169</th>\n",
       "      <td>13.40</td>\n",
       "      <td>4.60</td>\n",
       "      <td>2.86</td>\n",
       "      <td>25.0</td>\n",
       "      <td>112.0</td>\n",
       "      <td>1.98</td>\n",
       "      <td>0.96</td>\n",
       "      <td>0.27</td>\n",
       "      <td>1.11</td>\n",
       "      <td>8.50</td>\n",
       "      <td>0.67</td>\n",
       "      <td>1.92</td>\n",
       "      <td>630.0</td>\n",
       "    </tr>\n",
       "    <tr>\n",
       "      <th>174</th>\n",
       "      <td>13.40</td>\n",
       "      <td>3.91</td>\n",
       "      <td>2.48</td>\n",
       "      <td>23.0</td>\n",
       "      <td>102.0</td>\n",
       "      <td>1.80</td>\n",
       "      <td>0.75</td>\n",
       "      <td>0.43</td>\n",
       "      <td>1.41</td>\n",
       "      <td>7.30</td>\n",
       "      <td>0.70</td>\n",
       "      <td>1.56</td>\n",
       "      <td>750.0</td>\n",
       "    </tr>\n",
       "    <tr>\n",
       "      <th>175</th>\n",
       "      <td>13.27</td>\n",
       "      <td>4.28</td>\n",
       "      <td>2.26</td>\n",
       "      <td>20.0</td>\n",
       "      <td>120.0</td>\n",
       "      <td>1.59</td>\n",
       "      <td>0.69</td>\n",
       "      <td>0.43</td>\n",
       "      <td>1.35</td>\n",
       "      <td>10.20</td>\n",
       "      <td>0.59</td>\n",
       "      <td>1.56</td>\n",
       "      <td>835.0</td>\n",
       "    </tr>\n",
       "    <tr>\n",
       "      <th>176</th>\n",
       "      <td>13.17</td>\n",
       "      <td>2.59</td>\n",
       "      <td>2.37</td>\n",
       "      <td>20.0</td>\n",
       "      <td>120.0</td>\n",
       "      <td>1.65</td>\n",
       "      <td>0.68</td>\n",
       "      <td>0.53</td>\n",
       "      <td>1.46</td>\n",
       "      <td>9.30</td>\n",
       "      <td>0.60</td>\n",
       "      <td>1.62</td>\n",
       "      <td>840.0</td>\n",
       "    </tr>\n",
       "  </tbody>\n",
       "</table>\n",
       "<p>81 rows × 13 columns</p>\n",
       "</div>"
      ],
      "text/plain": [
       "     alcohol  malic_acid   ash  alcalinity_of_ash  magnesium  total_phenols  \\\n",
       "0      14.23        1.71  2.43               15.6      127.0           2.80   \n",
       "1      13.20        1.78  2.14               11.2      100.0           2.65   \n",
       "2      13.16        2.36  2.67               18.6      101.0           2.80   \n",
       "3      14.37        1.95  2.50               16.8      113.0           3.85   \n",
       "4      13.24        2.59  2.87               21.0      118.0           2.80   \n",
       "..       ...         ...   ...                ...        ...            ...   \n",
       "168    13.58        2.58  2.69               24.5      105.0           1.55   \n",
       "169    13.40        4.60  2.86               25.0      112.0           1.98   \n",
       "174    13.40        3.91  2.48               23.0      102.0           1.80   \n",
       "175    13.27        4.28  2.26               20.0      120.0           1.59   \n",
       "176    13.17        2.59  2.37               20.0      120.0           1.65   \n",
       "\n",
       "     flavanoids  nonflavanoid_phenols  proanthocyanins  color_intensity   hue  \\\n",
       "0          3.06                  0.28             2.29             5.64  1.04   \n",
       "1          2.76                  0.26             1.28             4.38  1.05   \n",
       "2          3.24                  0.30             2.81             5.68  1.03   \n",
       "3          3.49                  0.24             2.18             7.80  0.86   \n",
       "4          2.69                  0.39             1.82             4.32  1.04   \n",
       "..          ...                   ...              ...              ...   ...   \n",
       "168        0.84                  0.39             1.54             8.66  0.74   \n",
       "169        0.96                  0.27             1.11             8.50  0.67   \n",
       "174        0.75                  0.43             1.41             7.30  0.70   \n",
       "175        0.69                  0.43             1.35            10.20  0.59   \n",
       "176        0.68                  0.53             1.46             9.30  0.60   \n",
       "\n",
       "     od280/od315_of_diluted_wines  proline  \n",
       "0                            3.92   1065.0  \n",
       "1                            3.40   1050.0  \n",
       "2                            3.17   1185.0  \n",
       "3                            3.45   1480.0  \n",
       "4                            2.93    735.0  \n",
       "..                            ...      ...  \n",
       "168                          1.80    750.0  \n",
       "169                          1.92    630.0  \n",
       "174                          1.56    750.0  \n",
       "175                          1.56    835.0  \n",
       "176                          1.62    840.0  \n",
       "\n",
       "[81 rows x 13 columns]"
      ]
     },
     "execution_count": 219,
     "metadata": {},
     "output_type": "execute_result"
    }
   ],
   "source": [
    "# ===== 以下に解答のコードを入力して下さい =====\n",
    "wine_df.loc[wine_df['magnesium'] >= 100]"
   ]
  },
  {
   "cell_type": "code",
   "execution_count": 221,
   "id": "301d91fe",
   "metadata": {
    "ExecuteTime": {
     "end_time": "2024-01-30T09:43:30.573023Z",
     "start_time": "2024-01-30T09:43:30.558276Z"
    },
    "collapsed": false,
    "jupyter": {
     "outputs_hidden": false
    }
   },
   "outputs": [
    {
     "data": {
      "text/plain": [
       "81"
      ]
     },
     "execution_count": 221,
     "metadata": {},
     "output_type": "execute_result"
    }
   ],
   "source": [
    "# ===== 以下に解答のコードを入力して下さい =====\n",
    "wine_df.loc[wine_df['magnesium'] >= 100].shape[0]"
   ]
  },
  {
   "cell_type": "markdown",
   "id": "d8610011",
   "metadata": {
    "collapsed": false,
    "jupyter": {
     "outputs_hidden": false
    }
   },
   "source": [
    "### 問題2-2\n",
    "\n",
    "`wine_df` から `ash` の値の降順で並べ替え、上から10行を Notebook に表示してみましょう。(※ヒントは[こちら](https://pandas.pydata.org/docs/reference/api/pandas.DataFrame.sort_values.html))"
   ]
  },
  {
   "cell_type": "code",
   "execution_count": 85,
   "id": "f87db7b3",
   "metadata": {
    "ExecuteTime": {
     "end_time": "2024-01-30T09:43:30.573093Z",
     "start_time": "2024-01-30T09:43:30.560559Z"
    },
    "collapsed": false,
    "jupyter": {
     "outputs_hidden": false
    }
   },
   "outputs": [
    {
     "data": {
      "text/html": [
       "<div>\n",
       "<style scoped>\n",
       "    .dataframe tbody tr th:only-of-type {\n",
       "        vertical-align: middle;\n",
       "    }\n",
       "\n",
       "    .dataframe tbody tr th {\n",
       "        vertical-align: top;\n",
       "    }\n",
       "\n",
       "    .dataframe thead th {\n",
       "        text-align: right;\n",
       "    }\n",
       "</style>\n",
       "<table border=\"1\" class=\"dataframe\">\n",
       "  <thead>\n",
       "    <tr style=\"text-align: right;\">\n",
       "      <th></th>\n",
       "      <th>alcohol</th>\n",
       "      <th>malic_acid</th>\n",
       "      <th>ash</th>\n",
       "      <th>alcalinity_of_ash</th>\n",
       "      <th>magnesium</th>\n",
       "      <th>total_phenols</th>\n",
       "      <th>flavanoids</th>\n",
       "      <th>nonflavanoid_phenols</th>\n",
       "      <th>proanthocyanins</th>\n",
       "      <th>color_intensity</th>\n",
       "      <th>hue</th>\n",
       "      <th>od280/od315_of_diluted_wines</th>\n",
       "      <th>proline</th>\n",
       "    </tr>\n",
       "  </thead>\n",
       "  <tbody>\n",
       "    <tr>\n",
       "      <th>121</th>\n",
       "      <td>11.56</td>\n",
       "      <td>2.05</td>\n",
       "      <td>3.23</td>\n",
       "      <td>28.5</td>\n",
       "      <td>119.0</td>\n",
       "      <td>3.18</td>\n",
       "      <td>5.08</td>\n",
       "      <td>0.47</td>\n",
       "      <td>1.87</td>\n",
       "      <td>6.00</td>\n",
       "      <td>0.93</td>\n",
       "      <td>3.69</td>\n",
       "      <td>465.0</td>\n",
       "    </tr>\n",
       "    <tr>\n",
       "      <th>25</th>\n",
       "      <td>13.05</td>\n",
       "      <td>2.05</td>\n",
       "      <td>3.22</td>\n",
       "      <td>25.0</td>\n",
       "      <td>124.0</td>\n",
       "      <td>2.63</td>\n",
       "      <td>2.68</td>\n",
       "      <td>0.47</td>\n",
       "      <td>1.92</td>\n",
       "      <td>3.58</td>\n",
       "      <td>1.13</td>\n",
       "      <td>3.20</td>\n",
       "      <td>830.0</td>\n",
       "    </tr>\n",
       "    <tr>\n",
       "      <th>112</th>\n",
       "      <td>11.76</td>\n",
       "      <td>2.68</td>\n",
       "      <td>2.92</td>\n",
       "      <td>20.0</td>\n",
       "      <td>103.0</td>\n",
       "      <td>1.75</td>\n",
       "      <td>2.03</td>\n",
       "      <td>0.60</td>\n",
       "      <td>1.05</td>\n",
       "      <td>3.80</td>\n",
       "      <td>1.23</td>\n",
       "      <td>2.50</td>\n",
       "      <td>607.0</td>\n",
       "    </tr>\n",
       "    <tr>\n",
       "      <th>4</th>\n",
       "      <td>13.24</td>\n",
       "      <td>2.59</td>\n",
       "      <td>2.87</td>\n",
       "      <td>21.0</td>\n",
       "      <td>118.0</td>\n",
       "      <td>2.80</td>\n",
       "      <td>2.69</td>\n",
       "      <td>0.39</td>\n",
       "      <td>1.82</td>\n",
       "      <td>4.32</td>\n",
       "      <td>1.04</td>\n",
       "      <td>2.93</td>\n",
       "      <td>735.0</td>\n",
       "    </tr>\n",
       "    <tr>\n",
       "      <th>169</th>\n",
       "      <td>13.40</td>\n",
       "      <td>4.60</td>\n",
       "      <td>2.86</td>\n",
       "      <td>25.0</td>\n",
       "      <td>112.0</td>\n",
       "      <td>1.98</td>\n",
       "      <td>0.96</td>\n",
       "      <td>0.27</td>\n",
       "      <td>1.11</td>\n",
       "      <td>8.50</td>\n",
       "      <td>0.67</td>\n",
       "      <td>1.92</td>\n",
       "      <td>630.0</td>\n",
       "    </tr>\n",
       "    <tr>\n",
       "      <th>36</th>\n",
       "      <td>13.28</td>\n",
       "      <td>1.64</td>\n",
       "      <td>2.84</td>\n",
       "      <td>15.5</td>\n",
       "      <td>110.0</td>\n",
       "      <td>2.60</td>\n",
       "      <td>2.68</td>\n",
       "      <td>0.34</td>\n",
       "      <td>1.36</td>\n",
       "      <td>4.60</td>\n",
       "      <td>1.09</td>\n",
       "      <td>2.78</td>\n",
       "      <td>880.0</td>\n",
       "    </tr>\n",
       "    <tr>\n",
       "      <th>28</th>\n",
       "      <td>13.87</td>\n",
       "      <td>1.90</td>\n",
       "      <td>2.80</td>\n",
       "      <td>19.4</td>\n",
       "      <td>107.0</td>\n",
       "      <td>2.95</td>\n",
       "      <td>2.97</td>\n",
       "      <td>0.37</td>\n",
       "      <td>1.76</td>\n",
       "      <td>4.50</td>\n",
       "      <td>1.25</td>\n",
       "      <td>3.40</td>\n",
       "      <td>915.0</td>\n",
       "    </tr>\n",
       "    <tr>\n",
       "      <th>127</th>\n",
       "      <td>11.79</td>\n",
       "      <td>2.13</td>\n",
       "      <td>2.78</td>\n",
       "      <td>28.5</td>\n",
       "      <td>92.0</td>\n",
       "      <td>2.13</td>\n",
       "      <td>2.24</td>\n",
       "      <td>0.58</td>\n",
       "      <td>1.76</td>\n",
       "      <td>3.00</td>\n",
       "      <td>0.97</td>\n",
       "      <td>2.44</td>\n",
       "      <td>466.0</td>\n",
       "    </tr>\n",
       "    <tr>\n",
       "      <th>152</th>\n",
       "      <td>13.11</td>\n",
       "      <td>1.90</td>\n",
       "      <td>2.75</td>\n",
       "      <td>25.5</td>\n",
       "      <td>116.0</td>\n",
       "      <td>2.20</td>\n",
       "      <td>1.28</td>\n",
       "      <td>0.26</td>\n",
       "      <td>1.56</td>\n",
       "      <td>7.10</td>\n",
       "      <td>0.61</td>\n",
       "      <td>1.33</td>\n",
       "      <td>425.0</td>\n",
       "    </tr>\n",
       "    <tr>\n",
       "      <th>177</th>\n",
       "      <td>14.13</td>\n",
       "      <td>4.10</td>\n",
       "      <td>2.74</td>\n",
       "      <td>24.5</td>\n",
       "      <td>96.0</td>\n",
       "      <td>2.05</td>\n",
       "      <td>0.76</td>\n",
       "      <td>0.56</td>\n",
       "      <td>1.35</td>\n",
       "      <td>9.20</td>\n",
       "      <td>0.61</td>\n",
       "      <td>1.60</td>\n",
       "      <td>560.0</td>\n",
       "    </tr>\n",
       "  </tbody>\n",
       "</table>\n",
       "</div>"
      ],
      "text/plain": [
       "     alcohol  malic_acid   ash  alcalinity_of_ash  magnesium  total_phenols  \\\n",
       "121    11.56        2.05  3.23               28.5      119.0           3.18   \n",
       "25     13.05        2.05  3.22               25.0      124.0           2.63   \n",
       "112    11.76        2.68  2.92               20.0      103.0           1.75   \n",
       "4      13.24        2.59  2.87               21.0      118.0           2.80   \n",
       "169    13.40        4.60  2.86               25.0      112.0           1.98   \n",
       "36     13.28        1.64  2.84               15.5      110.0           2.60   \n",
       "28     13.87        1.90  2.80               19.4      107.0           2.95   \n",
       "127    11.79        2.13  2.78               28.5       92.0           2.13   \n",
       "152    13.11        1.90  2.75               25.5      116.0           2.20   \n",
       "177    14.13        4.10  2.74               24.5       96.0           2.05   \n",
       "\n",
       "     flavanoids  nonflavanoid_phenols  proanthocyanins  color_intensity   hue  \\\n",
       "121        5.08                  0.47             1.87             6.00  0.93   \n",
       "25         2.68                  0.47             1.92             3.58  1.13   \n",
       "112        2.03                  0.60             1.05             3.80  1.23   \n",
       "4          2.69                  0.39             1.82             4.32  1.04   \n",
       "169        0.96                  0.27             1.11             8.50  0.67   \n",
       "36         2.68                  0.34             1.36             4.60  1.09   \n",
       "28         2.97                  0.37             1.76             4.50  1.25   \n",
       "127        2.24                  0.58             1.76             3.00  0.97   \n",
       "152        1.28                  0.26             1.56             7.10  0.61   \n",
       "177        0.76                  0.56             1.35             9.20  0.61   \n",
       "\n",
       "     od280/od315_of_diluted_wines  proline  \n",
       "121                          3.69    465.0  \n",
       "25                           3.20    830.0  \n",
       "112                          2.50    607.0  \n",
       "4                            2.93    735.0  \n",
       "169                          1.92    630.0  \n",
       "36                           2.78    880.0  \n",
       "28                           3.40    915.0  \n",
       "127                          2.44    466.0  \n",
       "152                          1.33    425.0  \n",
       "177                          1.60    560.0  "
      ]
     },
     "execution_count": 85,
     "metadata": {},
     "output_type": "execute_result"
    }
   ],
   "source": [
    "# ===== 以下に解答のコードを入力して下さい =====\n",
    "wine_df.sort_values(by=['ash'],ascending=False).head(10)\n"
   ]
  },
  {
   "cell_type": "markdown",
   "id": "20872e42",
   "metadata": {
    "collapsed": false,
    "jupyter": {
     "outputs_hidden": false
    }
   },
   "source": [
    "### 問題2-3\n",
    "\n",
    "`wine_df` を `target` すなわちワインの種類によってグループに分け、`flavanoids` の平均値を計算しましょう。(※ヒントは[こちら](https://pandas.pydata.org/docs/reference/api/pandas.DataFrame.groupby.html))\n",
    "\n",
    "またその結果、平均値が一番小さい `target` はどれですか？"
   ]
  },
  {
   "cell_type": "code",
   "execution_count": 223,
   "id": "e474ff26",
   "metadata": {
    "ExecuteTime": {
     "end_time": "2024-01-30T09:43:30.575884Z",
     "start_time": "2024-01-30T09:43:30.571334Z"
    },
    "collapsed": false,
    "jupyter": {
     "outputs_hidden": false
    }
   },
   "outputs": [],
   "source": [
    "# wine_df に 新しい列 target を追加する\n",
    "wine_df['target'] = pd.DataFrame(wine_data.target)\n",
    "\n",
    "# ===== 以下に解答のコードを入力して下さい =====\n",
    "flavanoids_mean = wine_df.groupby(['target'])['flavanoids'].mean()"
   ]
  },
  {
   "cell_type": "code",
   "execution_count": 88,
   "id": "46ebeebf",
   "metadata": {
    "ExecuteTime": {
     "end_time": "2024-01-30T09:43:30.577368Z",
     "start_time": "2024-01-30T09:43:30.574242Z"
    },
    "collapsed": false,
    "jupyter": {
     "outputs_hidden": false
    }
   },
   "outputs": [
    {
     "name": "stdout",
     "output_type": "stream",
     "text": [
      "target\n",
      "0    2.982373\n",
      "1    2.080845\n",
      "2    0.781458\n",
      "Name: flavanoids, dtype: float64\n"
     ]
    }
   ],
   "source": [
    "# ===== 以下に解答のコードを入力して下さい =====\n",
    "print(flavanoids_mean)"
   ]
  },
  {
   "cell_type": "markdown",
   "id": "12d0120a",
   "metadata": {
    "collapsed": false,
    "jupyter": {
     "outputs_hidden": false
    }
   },
   "source": [
    "### 問題2-4\n",
    "\n",
    "`wine_df` の列 `alcohol` に対して、\n",
    "\n",
    "13%以上は `1`\n",
    "13%未満は `0`\n",
    "\n",
    "と出力する関数 `is_alcohol_high` を適用し、新しく `alcohol_high` という変数を作成してみましょう。(※ヒントは[こちら](https://pandas.pydata.org/docs/reference/api/pandas.DataFrame.apply.html))\n",
    "\n",
    "作成したら、結果を下から10行出力して確認してみましょう。"
   ]
  },
  {
   "cell_type": "code",
   "execution_count": 90,
   "id": "2b939533",
   "metadata": {
    "ExecuteTime": {
     "end_time": "2024-01-30T09:43:30.585788Z",
     "start_time": "2024-01-30T09:43:30.583478Z"
    },
    "collapsed": false,
    "jupyter": {
     "outputs_hidden": false
    }
   },
   "outputs": [],
   "source": [
    "# ===== 以下に解答のコードを入力して下さい =====\n",
    "def is_alcohol_high(alcohol): \n",
    "    if alcohol >= 13: return 1 \n",
    "    else: return 0\n",
    "            \n",
    "wine_df['alcohol_high'] = wine_df['alcohol'].apply(is_alcohol_high)"
   ]
  },
  {
   "cell_type": "code",
   "execution_count": 91,
   "id": "0a786a5a",
   "metadata": {
    "collapsed": false,
    "jupyter": {
     "outputs_hidden": false
    }
   },
   "outputs": [
    {
     "name": "stdout",
     "output_type": "stream",
     "text": [
      "   alcohol  malic_acid   ash  alcalinity_of_ash  magnesium  total_phenols  \\\n",
      "0    14.23        1.71  2.43               15.6      127.0           2.80   \n",
      "1    13.20        1.78  2.14               11.2      100.0           2.65   \n",
      "2    13.16        2.36  2.67               18.6      101.0           2.80   \n",
      "3    14.37        1.95  2.50               16.8      113.0           3.85   \n",
      "4    13.24        2.59  2.87               21.0      118.0           2.80   \n",
      "5    14.20        1.76  2.45               15.2      112.0           3.27   \n",
      "6    14.39        1.87  2.45               14.6       96.0           2.50   \n",
      "7    14.06        2.15  2.61               17.6      121.0           2.60   \n",
      "8    14.83        1.64  2.17               14.0       97.0           2.80   \n",
      "9    13.86        1.35  2.27               16.0       98.0           2.98   \n",
      "\n",
      "   flavanoids  nonflavanoid_phenols  proanthocyanins  color_intensity   hue  \\\n",
      "0        3.06                  0.28             2.29             5.64  1.04   \n",
      "1        2.76                  0.26             1.28             4.38  1.05   \n",
      "2        3.24                  0.30             2.81             5.68  1.03   \n",
      "3        3.49                  0.24             2.18             7.80  0.86   \n",
      "4        2.69                  0.39             1.82             4.32  1.04   \n",
      "5        3.39                  0.34             1.97             6.75  1.05   \n",
      "6        2.52                  0.30             1.98             5.25  1.02   \n",
      "7        2.51                  0.31             1.25             5.05  1.06   \n",
      "8        2.98                  0.29             1.98             5.20  1.08   \n",
      "9        3.15                  0.22             1.85             7.22  1.01   \n",
      "\n",
      "   od280/od315_of_diluted_wines  proline  target  alcohol_high  \n",
      "0                          3.92   1065.0       0             1  \n",
      "1                          3.40   1050.0       0             1  \n",
      "2                          3.17   1185.0       0             1  \n",
      "3                          3.45   1480.0       0             1  \n",
      "4                          2.93    735.0       0             1  \n",
      "5                          2.85   1450.0       0             1  \n",
      "6                          3.58   1290.0       0             1  \n",
      "7                          3.58   1295.0       0             1  \n",
      "8                          2.85   1045.0       0             1  \n",
      "9                          3.55   1045.0       0             1  \n"
     ]
    }
   ],
   "source": [
    "# ===== 以下に解答のコードを入力して下さい =====\n",
    "print(wine_df.head(10))"
   ]
  },
  {
   "cell_type": "markdown",
   "id": "3248d984",
   "metadata": {
    "collapsed": false,
    "jupyter": {
     "outputs_hidden": false
    }
   },
   "source": [
    "## 問題3 統計分析\n",
    "\n",
    "作成したデータに対して統計分析をしてみましょう。"
   ]
  },
  {
   "cell_type": "markdown",
   "id": "01156eb0",
   "metadata": {
    "collapsed": false,
    "jupyter": {
     "outputs_hidden": false
    }
   },
   "source": [
    "### 問題3-1\n",
    "\n",
    "dataframe の `describe` メソッドを使用し、数値データの各種統計量を確認してみましょう。(※ヒントは[こちら](https://pandas.pydata.org/docs/reference/api/pandas.DataFrame.describe.html))\n",
    "\n",
    "特徴量の中で一番標準偏差が大きいものはどれですか？"
   ]
  },
  {
   "cell_type": "code",
   "execution_count": 225,
   "id": "15f08a5b",
   "metadata": {
    "ExecuteTime": {
     "end_time": "2024-01-30T09:43:30.726339Z",
     "start_time": "2024-01-30T09:43:30.587748Z"
    },
    "collapsed": false,
    "jupyter": {
     "outputs_hidden": false
    }
   },
   "outputs": [
    {
     "data": {
      "text/html": [
       "<div>\n",
       "<style scoped>\n",
       "    .dataframe tbody tr th:only-of-type {\n",
       "        vertical-align: middle;\n",
       "    }\n",
       "\n",
       "    .dataframe tbody tr th {\n",
       "        vertical-align: top;\n",
       "    }\n",
       "\n",
       "    .dataframe thead th {\n",
       "        text-align: right;\n",
       "    }\n",
       "</style>\n",
       "<table border=\"1\" class=\"dataframe\">\n",
       "  <thead>\n",
       "    <tr style=\"text-align: right;\">\n",
       "      <th></th>\n",
       "      <th>alcohol</th>\n",
       "      <th>malic_acid</th>\n",
       "      <th>ash</th>\n",
       "      <th>alcalinity_of_ash</th>\n",
       "      <th>magnesium</th>\n",
       "      <th>total_phenols</th>\n",
       "      <th>flavanoids</th>\n",
       "      <th>nonflavanoid_phenols</th>\n",
       "      <th>proanthocyanins</th>\n",
       "      <th>color_intensity</th>\n",
       "      <th>hue</th>\n",
       "      <th>od280/od315_of_diluted_wines</th>\n",
       "      <th>proline</th>\n",
       "      <th>target</th>\n",
       "    </tr>\n",
       "  </thead>\n",
       "  <tbody>\n",
       "    <tr>\n",
       "      <th>count</th>\n",
       "      <td>178.000000</td>\n",
       "      <td>178.000000</td>\n",
       "      <td>178.000000</td>\n",
       "      <td>178.000000</td>\n",
       "      <td>178.000000</td>\n",
       "      <td>178.000000</td>\n",
       "      <td>178.000000</td>\n",
       "      <td>178.000000</td>\n",
       "      <td>178.000000</td>\n",
       "      <td>178.000000</td>\n",
       "      <td>178.000000</td>\n",
       "      <td>178.000000</td>\n",
       "      <td>178.000000</td>\n",
       "      <td>178.000000</td>\n",
       "    </tr>\n",
       "    <tr>\n",
       "      <th>mean</th>\n",
       "      <td>13.000618</td>\n",
       "      <td>2.336348</td>\n",
       "      <td>2.366517</td>\n",
       "      <td>19.494944</td>\n",
       "      <td>99.741573</td>\n",
       "      <td>2.295112</td>\n",
       "      <td>2.029270</td>\n",
       "      <td>0.361854</td>\n",
       "      <td>1.590899</td>\n",
       "      <td>5.058090</td>\n",
       "      <td>0.957449</td>\n",
       "      <td>2.611685</td>\n",
       "      <td>746.893258</td>\n",
       "      <td>0.938202</td>\n",
       "    </tr>\n",
       "    <tr>\n",
       "      <th>std</th>\n",
       "      <td>0.811827</td>\n",
       "      <td>1.117146</td>\n",
       "      <td>0.274344</td>\n",
       "      <td>3.339564</td>\n",
       "      <td>14.282484</td>\n",
       "      <td>0.625851</td>\n",
       "      <td>0.998859</td>\n",
       "      <td>0.124453</td>\n",
       "      <td>0.572359</td>\n",
       "      <td>2.318286</td>\n",
       "      <td>0.228572</td>\n",
       "      <td>0.709990</td>\n",
       "      <td>314.907474</td>\n",
       "      <td>0.775035</td>\n",
       "    </tr>\n",
       "    <tr>\n",
       "      <th>min</th>\n",
       "      <td>11.030000</td>\n",
       "      <td>0.740000</td>\n",
       "      <td>1.360000</td>\n",
       "      <td>10.600000</td>\n",
       "      <td>70.000000</td>\n",
       "      <td>0.980000</td>\n",
       "      <td>0.340000</td>\n",
       "      <td>0.130000</td>\n",
       "      <td>0.410000</td>\n",
       "      <td>1.280000</td>\n",
       "      <td>0.480000</td>\n",
       "      <td>1.270000</td>\n",
       "      <td>278.000000</td>\n",
       "      <td>0.000000</td>\n",
       "    </tr>\n",
       "    <tr>\n",
       "      <th>25%</th>\n",
       "      <td>12.362500</td>\n",
       "      <td>1.602500</td>\n",
       "      <td>2.210000</td>\n",
       "      <td>17.200000</td>\n",
       "      <td>88.000000</td>\n",
       "      <td>1.742500</td>\n",
       "      <td>1.205000</td>\n",
       "      <td>0.270000</td>\n",
       "      <td>1.250000</td>\n",
       "      <td>3.220000</td>\n",
       "      <td>0.782500</td>\n",
       "      <td>1.937500</td>\n",
       "      <td>500.500000</td>\n",
       "      <td>0.000000</td>\n",
       "    </tr>\n",
       "    <tr>\n",
       "      <th>50%</th>\n",
       "      <td>13.050000</td>\n",
       "      <td>1.865000</td>\n",
       "      <td>2.360000</td>\n",
       "      <td>19.500000</td>\n",
       "      <td>98.000000</td>\n",
       "      <td>2.355000</td>\n",
       "      <td>2.135000</td>\n",
       "      <td>0.340000</td>\n",
       "      <td>1.555000</td>\n",
       "      <td>4.690000</td>\n",
       "      <td>0.965000</td>\n",
       "      <td>2.780000</td>\n",
       "      <td>673.500000</td>\n",
       "      <td>1.000000</td>\n",
       "    </tr>\n",
       "    <tr>\n",
       "      <th>75%</th>\n",
       "      <td>13.677500</td>\n",
       "      <td>3.082500</td>\n",
       "      <td>2.557500</td>\n",
       "      <td>21.500000</td>\n",
       "      <td>107.000000</td>\n",
       "      <td>2.800000</td>\n",
       "      <td>2.875000</td>\n",
       "      <td>0.437500</td>\n",
       "      <td>1.950000</td>\n",
       "      <td>6.200000</td>\n",
       "      <td>1.120000</td>\n",
       "      <td>3.170000</td>\n",
       "      <td>985.000000</td>\n",
       "      <td>2.000000</td>\n",
       "    </tr>\n",
       "    <tr>\n",
       "      <th>max</th>\n",
       "      <td>14.830000</td>\n",
       "      <td>5.800000</td>\n",
       "      <td>3.230000</td>\n",
       "      <td>30.000000</td>\n",
       "      <td>162.000000</td>\n",
       "      <td>3.880000</td>\n",
       "      <td>5.080000</td>\n",
       "      <td>0.660000</td>\n",
       "      <td>3.580000</td>\n",
       "      <td>13.000000</td>\n",
       "      <td>1.710000</td>\n",
       "      <td>4.000000</td>\n",
       "      <td>1680.000000</td>\n",
       "      <td>2.000000</td>\n",
       "    </tr>\n",
       "  </tbody>\n",
       "</table>\n",
       "</div>"
      ],
      "text/plain": [
       "          alcohol  malic_acid         ash  alcalinity_of_ash   magnesium  \\\n",
       "count  178.000000  178.000000  178.000000         178.000000  178.000000   \n",
       "mean    13.000618    2.336348    2.366517          19.494944   99.741573   \n",
       "std      0.811827    1.117146    0.274344           3.339564   14.282484   \n",
       "min     11.030000    0.740000    1.360000          10.600000   70.000000   \n",
       "25%     12.362500    1.602500    2.210000          17.200000   88.000000   \n",
       "50%     13.050000    1.865000    2.360000          19.500000   98.000000   \n",
       "75%     13.677500    3.082500    2.557500          21.500000  107.000000   \n",
       "max     14.830000    5.800000    3.230000          30.000000  162.000000   \n",
       "\n",
       "       total_phenols  flavanoids  nonflavanoid_phenols  proanthocyanins  \\\n",
       "count     178.000000  178.000000            178.000000       178.000000   \n",
       "mean        2.295112    2.029270              0.361854         1.590899   \n",
       "std         0.625851    0.998859              0.124453         0.572359   \n",
       "min         0.980000    0.340000              0.130000         0.410000   \n",
       "25%         1.742500    1.205000              0.270000         1.250000   \n",
       "50%         2.355000    2.135000              0.340000         1.555000   \n",
       "75%         2.800000    2.875000              0.437500         1.950000   \n",
       "max         3.880000    5.080000              0.660000         3.580000   \n",
       "\n",
       "       color_intensity         hue  od280/od315_of_diluted_wines      proline  \\\n",
       "count       178.000000  178.000000                    178.000000   178.000000   \n",
       "mean          5.058090    0.957449                      2.611685   746.893258   \n",
       "std           2.318286    0.228572                      0.709990   314.907474   \n",
       "min           1.280000    0.480000                      1.270000   278.000000   \n",
       "25%           3.220000    0.782500                      1.937500   500.500000   \n",
       "50%           4.690000    0.965000                      2.780000   673.500000   \n",
       "75%           6.200000    1.120000                      3.170000   985.000000   \n",
       "max          13.000000    1.710000                      4.000000  1680.000000   \n",
       "\n",
       "           target  \n",
       "count  178.000000  \n",
       "mean     0.938202  \n",
       "std      0.775035  \n",
       "min      0.000000  \n",
       "25%      0.000000  \n",
       "50%      1.000000  \n",
       "75%      2.000000  \n",
       "max      2.000000  "
      ]
     },
     "execution_count": 225,
     "metadata": {},
     "output_type": "execute_result"
    }
   ],
   "source": [
    "# ===== 以下に解答のコードを入力して下さい =====\n",
    "wine_df.describe()"
   ]
  },
  {
   "cell_type": "code",
   "execution_count": 99,
   "id": "e5539989",
   "metadata": {
    "ExecuteTime": {
     "end_time": "2024-01-30T09:43:30.726480Z",
     "start_time": "2024-01-30T09:43:30.599879Z"
    },
    "collapsed": false,
    "jupyter": {
     "outputs_hidden": false
    }
   },
   "outputs": [
    {
     "name": "stdout",
     "output_type": "stream",
     "text": [
      "proline\n"
     ]
    }
   ],
   "source": [
    "# ===== 以下に解答のコードを入力して下さい =====\n",
    "print(wine_df.std().idxmax())"
   ]
  },
  {
   "cell_type": "markdown",
   "id": "4cf9ff99",
   "metadata": {
    "collapsed": false,
    "jupyter": {
     "outputs_hidden": false
    }
   },
   "source": [
    "### 問題3-2\n",
    "\n",
    "dataframeの `plot.hist` メソッドを使用し、`proline` の分布を可視化しましょう。(※ヒントは[こちら](https://pandas.pydata.org/docs/reference/api/pandas.DataFrame.plot.hist.html))"
   ]
  },
  {
   "cell_type": "code",
   "execution_count": 133,
   "id": "1d2ffc7a",
   "metadata": {
    "ExecuteTime": {
     "end_time": "2024-01-30T09:43:30.903865Z",
     "start_time": "2024-01-30T09:43:30.610072Z"
    },
    "collapsed": false,
    "jupyter": {
     "outputs_hidden": false
    }
   },
   "outputs": [
    {
     "data": {
      "text/plain": [
       "<Axes: ylabel='Frequency'>"
      ]
     },
     "execution_count": 133,
     "metadata": {},
     "output_type": "execute_result"
    },
    {
     "data": {
      "image/png": "[encoded data removed]",
      "text/plain": [
       "<Figure size 640x480 with 1 Axes>"
      ]
     },
     "metadata": {},
     "output_type": "display_data"
    }
   ],
   "source": [
    "# ===== 以下に解答のコードを入力して下さい =====\n",
    "wine_df[\"proline\"].plot.hist(bins=20, alpha=0.5)"
   ]
  },
  {
   "cell_type": "markdown",
   "id": "053a0543",
   "metadata": {
    "collapsed": false,
    "jupyter": {
     "outputs_hidden": false
    }
   },
   "source": [
    "### 問題3-3\n",
    "\n",
    "dataframeの `plot.scatter` メソッドを使用し、`total_phenols`, `flavanoids` の分布を可視化しましょう。(※ヒントは[こちら](https://pandas.pydata.org/docs/reference/api/pandas.DataFrame.plot.scatter.html))\n",
    "\n",
    "また可視化した結果、どんなことが言えそうですか？"
   ]
  },
  {
   "cell_type": "code",
   "execution_count": 227,
   "id": "429c5c03",
   "metadata": {
    "ExecuteTime": {
     "end_time": "2024-01-30T09:43:31.033982Z",
     "start_time": "2024-01-30T09:43:30.783235Z"
    },
    "collapsed": false,
    "jupyter": {
     "outputs_hidden": false
    }
   },
   "outputs": [
    {
     "data": {
      "text/plain": [
       "<Axes: xlabel='total_phenols', ylabel='flavanoids'>"
      ]
     },
     "execution_count": 227,
     "metadata": {},
     "output_type": "execute_result"
    },
    {
     "data": {
      "image/png": "[encoded data removed]",
      "text/plain": [
       "<Figure size 640x480 with 1 Axes>"
      ]
     },
     "metadata": {},
     "output_type": "display_data"
    }
   ],
   "source": [
    "# ===== 以下に解答のコードを入力して下さい =====\n",
    "wine_df.plot.scatter(x=\"total_phenols\", y=\"flavanoids\", alpha=1.0)"
   ]
  },
  {
   "cell_type": "code",
   "execution_count": 145,
   "id": "fc0a87b2",
   "metadata": {
    "ExecuteTime": {
     "end_time": "2024-01-30T09:43:31.038417Z",
     "start_time": "2024-01-30T09:43:30.939726Z"
    },
    "collapsed": false,
    "jupyter": {
     "outputs_hidden": false
    }
   },
   "outputs": [],
   "source": [
    "# ===== 以下に解答のコードを入力して下さい =====\n",
    "#　正の相関が見られる"
   ]
  },
  {
   "cell_type": "markdown",
   "id": "a4aba90b",
   "metadata": {
    "collapsed": false,
    "jupyter": {
     "outputs_hidden": false
    }
   },
   "source": [
    "### 問題3-4\n",
    "\n",
    "dataframeの `corr` メソッドを使用し、`total_phenols`, `flavanoids` の相関係数を計算しましょう。(※ヒントは[こちら](https://pandas.pydata.org/docs/reference/api/pandas.DataFrame.corr.html))"
   ]
  },
  {
   "cell_type": "code",
   "execution_count": 143,
   "id": "9e969d64",
   "metadata": {
    "ExecuteTime": {
     "end_time": "2024-01-30T09:43:31.038667Z",
     "start_time": "2024-01-30T09:43:30.946018Z"
    },
    "collapsed": false,
    "jupyter": {
     "outputs_hidden": false
    }
   },
   "outputs": [
    {
     "name": "stdout",
     "output_type": "stream",
     "text": [
      "相関係数: 0.8645635000951148\n"
     ]
    }
   ],
   "source": [
    "# ===== 以下に解答のコードを入力して下さい =====\n",
    "correlation = wine_df[\"total_phenols\"].corr(wine_df[\"flavanoids\"])\n",
    "print(\"相関係数:\", correlation)"
   ]
  },
  {
   "cell_type": "markdown",
   "id": "317b40f4",
   "metadata": {
    "collapsed": false,
    "jupyter": {
     "outputs_hidden": false
    }
   },
   "source": [
    "### 問題4 探索的データ解析（EDA）\n",
    "\n",
    "EDAを行い、データの特徴や傾向を特定していきましょう。"
   ]
  },
  {
   "cell_type": "markdown",
   "id": "47f598f4",
   "metadata": {
    "collapsed": false,
    "jupyter": {
     "outputs_hidden": false
    }
   },
   "source": [
    "### 問題4-1\n",
    "\n",
    "ワインの種類 `target` ごとに特徴量の平均を算出してみましょう。\n",
    "またその結果、ワインの種類 `target` ごとに差がある特徴量を2つ選択して下さい。"
   ]
  },
  {
   "cell_type": "code",
   "execution_count": 157,
   "id": "269a7ca7",
   "metadata": {
    "ExecuteTime": {
     "end_time": "2024-01-30T09:43:31.038745Z",
     "start_time": "2024-01-30T09:43:30.955579Z"
    },
    "collapsed": false,
    "jupyter": {
     "outputs_hidden": false
    }
   },
   "outputs": [
    {
     "data": {
      "text/html": [
       "<div>\n",
       "<style scoped>\n",
       "    .dataframe tbody tr th:only-of-type {\n",
       "        vertical-align: middle;\n",
       "    }\n",
       "\n",
       "    .dataframe tbody tr th {\n",
       "        vertical-align: top;\n",
       "    }\n",
       "\n",
       "    .dataframe thead th {\n",
       "        text-align: right;\n",
       "    }\n",
       "</style>\n",
       "<table border=\"1\" class=\"dataframe\">\n",
       "  <thead>\n",
       "    <tr style=\"text-align: right;\">\n",
       "      <th></th>\n",
       "      <th>alcohol</th>\n",
       "      <th>malic_acid</th>\n",
       "      <th>ash</th>\n",
       "      <th>alcalinity_of_ash</th>\n",
       "      <th>magnesium</th>\n",
       "      <th>total_phenols</th>\n",
       "      <th>flavanoids</th>\n",
       "      <th>nonflavanoid_phenols</th>\n",
       "      <th>proanthocyanins</th>\n",
       "      <th>color_intensity</th>\n",
       "      <th>hue</th>\n",
       "      <th>od280/od315_of_diluted_wines</th>\n",
       "      <th>proline</th>\n",
       "      <th>alcohol_high</th>\n",
       "    </tr>\n",
       "    <tr>\n",
       "      <th>target</th>\n",
       "      <th></th>\n",
       "      <th></th>\n",
       "      <th></th>\n",
       "      <th></th>\n",
       "      <th></th>\n",
       "      <th></th>\n",
       "      <th></th>\n",
       "      <th></th>\n",
       "      <th></th>\n",
       "      <th></th>\n",
       "      <th></th>\n",
       "      <th></th>\n",
       "      <th></th>\n",
       "      <th></th>\n",
       "    </tr>\n",
       "  </thead>\n",
       "  <tbody>\n",
       "    <tr>\n",
       "      <th>0</th>\n",
       "      <td>13.744746</td>\n",
       "      <td>2.010678</td>\n",
       "      <td>2.455593</td>\n",
       "      <td>17.037288</td>\n",
       "      <td>106.338983</td>\n",
       "      <td>2.840169</td>\n",
       "      <td>2.982373</td>\n",
       "      <td>0.290000</td>\n",
       "      <td>1.899322</td>\n",
       "      <td>5.528305</td>\n",
       "      <td>1.062034</td>\n",
       "      <td>3.157797</td>\n",
       "      <td>1115.711864</td>\n",
       "      <td>0.966102</td>\n",
       "    </tr>\n",
       "    <tr>\n",
       "      <th>1</th>\n",
       "      <td>12.278732</td>\n",
       "      <td>1.932676</td>\n",
       "      <td>2.244789</td>\n",
       "      <td>20.238028</td>\n",
       "      <td>94.549296</td>\n",
       "      <td>2.258873</td>\n",
       "      <td>2.080845</td>\n",
       "      <td>0.363662</td>\n",
       "      <td>1.630282</td>\n",
       "      <td>3.086620</td>\n",
       "      <td>1.056282</td>\n",
       "      <td>2.785352</td>\n",
       "      <td>519.507042</td>\n",
       "      <td>0.112676</td>\n",
       "    </tr>\n",
       "    <tr>\n",
       "      <th>2</th>\n",
       "      <td>13.153750</td>\n",
       "      <td>3.333750</td>\n",
       "      <td>2.437083</td>\n",
       "      <td>21.416667</td>\n",
       "      <td>99.312500</td>\n",
       "      <td>1.678750</td>\n",
       "      <td>0.781458</td>\n",
       "      <td>0.447500</td>\n",
       "      <td>1.153542</td>\n",
       "      <td>7.396250</td>\n",
       "      <td>0.682708</td>\n",
       "      <td>1.683542</td>\n",
       "      <td>629.895833</td>\n",
       "      <td>0.562500</td>\n",
       "    </tr>\n",
       "  </tbody>\n",
       "</table>\n",
       "</div>"
      ],
      "text/plain": [
       "          alcohol  malic_acid       ash  alcalinity_of_ash   magnesium  \\\n",
       "target                                                                   \n",
       "0       13.744746    2.010678  2.455593          17.037288  106.338983   \n",
       "1       12.278732    1.932676  2.244789          20.238028   94.549296   \n",
       "2       13.153750    3.333750  2.437083          21.416667   99.312500   \n",
       "\n",
       "        total_phenols  flavanoids  nonflavanoid_phenols  proanthocyanins  \\\n",
       "target                                                                     \n",
       "0            2.840169    2.982373              0.290000         1.899322   \n",
       "1            2.258873    2.080845              0.363662         1.630282   \n",
       "2            1.678750    0.781458              0.447500         1.153542   \n",
       "\n",
       "        color_intensity       hue  od280/od315_of_diluted_wines      proline  \\\n",
       "target                                                                         \n",
       "0              5.528305  1.062034                      3.157797  1115.711864   \n",
       "1              3.086620  1.056282                      2.785352   519.507042   \n",
       "2              7.396250  0.682708                      1.683542   629.895833   \n",
       "\n",
       "        alcohol_high  \n",
       "target                \n",
       "0           0.966102  \n",
       "1           0.112676  \n",
       "2           0.562500  "
      ]
     },
     "execution_count": 157,
     "metadata": {},
     "output_type": "execute_result"
    }
   ],
   "source": [
    "# ===== 以下に解答のコードを入力して下さい =====\n",
    "wine_df.groupby(\"target\").mean()"
   ]
  },
  {
   "cell_type": "code",
   "execution_count": 229,
   "id": "780add09",
   "metadata": {
    "ExecuteTime": {
     "end_time": "2024-01-30T09:43:31.038809Z",
     "start_time": "2024-01-30T09:43:30.960252Z"
    },
    "collapsed": false,
    "jupyter": {
     "outputs_hidden": false
    }
   },
   "outputs": [
    {
     "name": "stdout",
     "output_type": "stream",
     "text": [
      "標準偏差\n",
      "proline      164.609677\n",
      "magnesium     12.714306\n",
      "dtype: float64\n"
     ]
    }
   ],
   "source": [
    "# ===== 以下に解答のコードを入力して下さい =====\n",
    "std_by_target = wine_df.groupby(\"target\").std()\n",
    "\n",
    "print(\"標準偏差\")\n",
    "print(std_by_target.mean().nlargest(2))"
   ]
  },
  {
   "cell_type": "markdown",
   "id": "116f67ea",
   "metadata": {
    "collapsed": false,
    "jupyter": {
     "outputs_hidden": false
    }
   },
   "source": [
    "### 問題4-2\n",
    "\n",
    "問題4-1 で選択した２つの特徴量で、上手くワインの種類が分類できそうかを散布図を用いて確認してみましょう。\n",
    "\n",
    "ここでは `seaborn` の `scatterplot` を用いて描画してみましょう。(※ヒントは[こちら](https://seaborn.pydata.org/generated/seaborn.scatterplot.html))"
   ]
  },
  {
   "cell_type": "code",
   "execution_count": 203,
   "id": "899722d1",
   "metadata": {
    "ExecuteTime": {
     "end_time": "2024-01-30T09:43:31.234996Z",
     "start_time": "2024-01-30T09:43:30.965521Z"
    },
    "collapsed": false,
    "jupyter": {
     "outputs_hidden": false
    }
   },
   "outputs": [
    {
     "data": {
      "image/png": "[encoded data removed]",
      "text/plain": [
       "<Figure size 640x480 with 1 Axes>"
      ]
     },
     "metadata": {},
     "output_type": "display_data"
    }
   ],
   "source": [
    "# ===== 以下に解答のコードを入力して下さい =====\n",
    "sns.scatterplot(data=wine_df, x=\"proline\", y=\"magnesium\",hue=\"target\",palette=\"Set1\")\n",
    "plt.show()"
   ]
  },
  {
   "cell_type": "code",
   "execution_count": 246,
   "id": "2f3bf58d",
   "metadata": {
    "ExecuteTime": {
     "end_time": "2024-01-30T09:43:31.235216Z",
     "start_time": "2024-01-30T09:43:31.143084Z"
    },
    "collapsed": false,
    "jupyter": {
     "outputs_hidden": false
    }
   },
   "outputs": [
    {
     "name": "stdout",
     "output_type": "stream",
     "text": [
      "LDA 交差検証スコア（平均）: 0.6975\n"
     ]
    }
   ],
   "source": [
    "# どのくらい分類できたのか線形判別分析で検証する\n",
    "\n",
    "from sklearn.discriminant_analysis import LinearDiscriminantAnalysis\n",
    "from sklearn.model_selection import train_test_split, cross_val_score\n",
    "from sklearn.metrics import accuracy_score\n",
    "\n",
    "# 特徴量とターゲット\n",
    "X = wine_df[[\"proline\", \"magnesium\"]]\n",
    "y = wine_df[\"target\"]\n",
    "\n",
    "# 訓練データとテストデータに分割（80%: 訓練, 20%: テスト）\n",
    "X_train, X_test, y_train, y_test = train_test_split(X, y, test_size=0.2, random_state=42)\n",
    "\n",
    "# LDAモデルを作成\n",
    "lda = LinearDiscriminantAnalysis()\n",
    "\n",
    "# 交差検証でスコアを計算（高いほど分類しやすい）\n",
    "# 5回の交差検証の、正解率の平均を求める\n",
    "cv_score = cross_val_score(lda, X, y, cv=5).mean()\n",
    "print(f\"LDA 交差検証スコア（平均）: {cv_score:.4f}\")"
   ]
  },
  {
   "cell_type": "code",
   "execution_count": 248,
   "id": "4395b7a5-56e4-40ee-ab33-5e3f6a37046e",
   "metadata": {},
   "outputs": [],
   "source": [
    "# あまり分類できていると言えない"
   ]
  },
  {
   "cell_type": "code",
   "execution_count": null,
   "id": "40abb270-f24a-418f-933f-d8678b6c3739",
   "metadata": {},
   "outputs": [],
   "source": []
  }
 ],
 "metadata": {
  "kernelspec": {
   "display_name": "Python 3 (ipykernel)",
   "language": "python",
   "name": "python3"
  },
  "language_info": {
   "codemirror_mode": {
    "name": "ipython",
    "version": 3
   },
   "file_extension": ".py",
   "mimetype": "text/x-python",
   "name": "python",
   "nbconvert_exporter": "python",
   "pygments_lexer": "ipython3",
   "version": "3.12.4"
  }
 },
 "nbformat": 4,
 "nbformat_minor": 5
}
